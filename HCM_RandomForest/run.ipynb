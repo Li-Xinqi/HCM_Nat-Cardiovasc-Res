{
 "cells": [
  {
   "cell_type": "code",
   "execution_count": 1,
   "metadata": {},
   "outputs": [],
   "source": [
    "# Copyright (c) Microsoft Corporation. All rights reserved.\n",
    "# Licensed under the MIT License.\n",
    "\n",
    "import pandas as pd\n",
    "import numpy as np\n",
    "from sklearn.ensemble import RandomForestClassifier as RF\n",
    "from sklearn.metrics import roc_curve, roc_auc_score, f1_score\n",
    "from sklearn.model_selection import train_test_split\n",
    "from model import Selection\n",
    "%matplotlib inline\n",
    "import matplotlib.pyplot as plt"
   ]
  },
  {
   "cell_type": "code",
   "execution_count": 2,
   "metadata": {},
   "outputs": [],
   "source": [
    "# settings\n",
    "rng_seed = 42  # control reproducibility\n",
    "ran_sta = 3\n",
    "method = \"lasso\"\n",
    "exp_to_run = \"diagnosis\"  # survival or diagnosis"
   ]
  },
  {
   "cell_type": "code",
   "execution_count": 3,
   "metadata": {},
   "outputs": [],
   "source": [
    "# catch setting errors\n",
    "assert method == \"lasso\"\n",
    "assert exp_to_run in [\"survival\", \"diagnosis\"]"
   ]
  },
  {
   "cell_type": "code",
   "execution_count": 4,
   "metadata": {},
   "outputs": [],
   "source": [
    "if exp_to_run == \"survival\":\n",
    "    # read data for survival prediction\n",
    "    meta_lipi = pd.read_excel('./data/metabolomics and lipidomics data.xlsx', sheet_name='Sheet1')\n",
    "    clini = pd.read_excel('./data/metabolomics and lipidomics data.xlsx', sheet_name='Sheet3')\n",
    "\n",
    "    # select data: input X and output labels\n",
    "    years = 7  # select patients with survival time larger than this value, -1 to use all data\n",
    "    patient = clini.loc[clini.apply(lambda x: str(x[\"Patient\"]).startswith(\"HCM\"), axis=1)]\n",
    "    print(\"Max Survival time after surgery (year): \", max(patient[\"Survival time after surgery (year)\"]))\n",
    "    patient = patient.loc[(patient[\"Survival time after surgery (year)\"]>years)|(patient[\"cardiovascular death\"]==0)]\n",
    "    patient = patient.loc[~patient[\"cardiovascular death\"].isnull()]\n",
    "    labels = patient[\"cardiovascular death\"].values.reshape(-1)\n",
    "    X = meta_lipi[patient[\"Patient\"]].T.values\n",
    "    metas = list(meta_lipi.Metabolites)\n",
    "    print(\"input X:\", type(X), X.shape)\n",
    "    print(\"output labels:\", type(labels), labels.shape)\n",
    "\n",
    "    # train test split\n",
    "    patient_id = patient[\"Patient\"].values.tolist()\n",
    "    train_lis = []\n",
    "    test_lis = []\n",
    "    for i, x in enumerate(patient_id):\n",
    "        j = int(x[4:])\n",
    "        if (labels[i]==1 and j<53) or (j<220 and labels[i]==0):\n",
    "            # print(\"train\", labels[i], x)\n",
    "            train_lis.append(i)\n",
    "        else:\n",
    "            # print(\"test\", labels[i], x)\n",
    "            test_lis.append(i)\n",
    "    Xtrain, Xtest = X[train_lis], X[test_lis]\n",
    "    ytrain, ytest = labels[train_lis], labels[test_lis]\n",
    "\n",
    "    print(\"train test info:\")\n",
    "    print(\"all, live-death\", np.unique(labels,return_counts=True))\n",
    "    print(\"train, live-death\", np.unique(ytrain,return_counts=True))\n",
    "    print(\"test, live-death\", np.unique(ytest,return_counts=True))"
   ]
  },
  {
   "cell_type": "code",
   "execution_count": 5,
   "metadata": {},
   "outputs": [
    {
     "name": "stdout",
     "output_type": "stream",
     "text": [
      "input X: <class 'numpy.ndarray'> (203, 142)\n",
      "output labels: <class 'numpy.ndarray'> (203,)\n",
      "train test info:\n",
      "all, normal-hcm (array([0., 1.], dtype=float32), array([ 60, 143]))\n",
      "train, normal-hcm (array([0., 1.], dtype=float32), array([40, 96]))\n",
      "test, normal-hcm (array([0., 1.], dtype=float32), array([20, 47]))\n"
     ]
    }
   ],
   "source": [
    "if exp_to_run == \"diagnosis\":\n",
    "    # read data for diagnosis prediction\n",
    "    plasma_df = pd.read_excel('./data/Normalized HCM plasma metabolomics data.xlsx', sheet_name='Sheet1')\n",
    "\n",
    "    # input X and output labels\n",
    "    X = plasma_df.T.values[1:]\n",
    "    labels = []\n",
    "    for c in plasma_df.columns[1:]:\n",
    "        if c.startswith(\"C\"):\n",
    "            labels.append(0.0)\n",
    "        elif c.startswith(\"FW\"):\n",
    "            labels.append(1.0)\n",
    "        else:\n",
    "            raise ValueError\n",
    "    labels = np.array(labels)\n",
    "    metas = list(plasma_df.T.values[0])\n",
    "    X = X.astype(np.float32)\n",
    "    labels = labels.astype(np.float32)\n",
    "\n",
    "    print(\"input X:\", type(X), X.shape)\n",
    "    print(\"output labels:\", type(labels), labels.shape)\n",
    "\n",
    "    # random train valid test seperation\n",
    "    Xtrain, Xtest, ytrain, ytest = train_test_split(X, labels, test_size=0.33, random_state=ran_sta)\n",
    "\n",
    "    print(\"train test info:\")\n",
    "    print(\"all, normal-hcm\", np.unique(labels,return_counts=True))\n",
    "    print(\"train, normal-hcm\", np.unique(ytrain,return_counts=True))\n",
    "    print(\"test, normal-hcm\", np.unique(ytest,return_counts=True))"
   ]
  },
  {
   "cell_type": "code",
   "execution_count": 6,
   "metadata": {},
   "outputs": [],
   "source": [
    "def test(model, Xtest, ytest, metric='auc'):\n",
    "    pred = model.predict(Xtest)\n",
    "    prob = model.predict_proba(Xtest)\n",
    "    s = f1_score(ytest, pred)\n",
    "    s1 = roc_auc_score(ytest, prob[:,-1])\n",
    "    print(\"f1 score:\", s)\n",
    "    print(\"auroc score:\", s1)\n",
    "    return (s,s1)\n",
    "         \n",
    "def train_test(Xtrain, ytrain, Xtest, ytest, test_fn=\"RF\", seed=12306, metric='auc'):\n",
    "    model = RF(random_state=seed)\n",
    "    model.fit(Xtrain, ytrain)\n",
    "    print(\"evaluate on train set:\")\n",
    "    test(model, Xtrain, ytrain, metric)\n",
    "    print(\"evaluate on test set:\")\n",
    "    s = test(model, Xtest, ytest, metric)\n",
    "    return model, s"
   ]
  },
  {
   "cell_type": "code",
   "execution_count": 7,
   "metadata": {
    "scrolled": true
   },
   "outputs": [
    {
     "name": "stdout",
     "output_type": "stream",
     "text": [
      "selected feature index:  [32 37 56 73 89]\n",
      "selected meta names:  ['8:0-Carnitine', 'Creatine', 'Hypoxanthine', 'Phenylalanine', 'Tryptophan']\n",
      "with selected featues:\n",
      "evaluate on train set:\n",
      "f1 score: 1.0\n",
      "auroc score: 1.0\n",
      "evaluate on test set:\n",
      "f1 score: 0.9462365591397849\n",
      "auroc score: 0.976063829787234\n",
      "feature importance\n",
      "<class 'numpy.ndarray'> [0.34039962 0.10576926 0.27412452 0.11698484 0.16272176]\n"
     ]
    }
   ],
   "source": [
    "class ArgsClass:\n",
    "    def __init__(self, k=5, alpha=0.05):\n",
    "        self.k=k\n",
    "        self.alpha=alpha\n",
    "args=ArgsClass(k=10, alpha=0.001)\n",
    "sel = Selection(method, args)\n",
    "sel.fit(Xtrain, ytrain)  # select on whole training set\n",
    "mb = sel.mb_\n",
    "print(\"selected feature index: \", mb)\n",
    "print(\"selected meta names: \", [metas[x] for x in mb])\n",
    "print(\"with selected featues:\")\n",
    "model, raw = train_test(sel.transform(Xtrain), ytrain, sel.transform(Xtest), ytest, test_fn=\"RF\")\n",
    "y_pred = model.predict_proba(sel.transform(Xtest))[:,-1]\n",
    "# feature importance\n",
    "print(\"feature importance\")\n",
    "imp = model.feature_importances_\n",
    "print(type(imp), imp)"
   ]
  },
  {
   "cell_type": "code",
   "execution_count": 8,
   "metadata": {},
   "outputs": [],
   "source": [
    "n_bootstraps = 1000\n",
    "def CI(y_true, y_pred):\n",
    "    bootstrapped_scores = []\n",
    "    print(\"auroc score:\", roc_auc_score(y_true, y_pred))\n",
    "    rng = np.random.RandomState(rng_seed)\n",
    "    for i in range(n_bootstraps):\n",
    "        # bootstrap by sampling with replacement on the prediction indices\n",
    "        indices = rng.randint(0, len(y_pred), len(y_pred))\n",
    "        if len(np.unique(y_true[indices])) < 2:\n",
    "            # We need at least one positive and one negative sample for ROC AUC\n",
    "            # to be defined: reject the sample\n",
    "            continue\n",
    "\n",
    "        score = roc_auc_score(y_true[indices], y_pred[indices])\n",
    "        bootstrapped_scores.append(score)\n",
    "        #print(\"Bootstrap #{} ROC area: {:0.3f}\".format(i + 1, score))\n",
    "    sorted_scores = np.array(bootstrapped_scores)\n",
    "    sorted_scores.sort()\n",
    "\n",
    "    # Computing the lower and upper bound of the 90% confidence interval\n",
    "    # You can change the bounds percentiles to 0.025 and 0.975 to get\n",
    "    # a 95% confidence interval instead.\n",
    "    confidence_lower = sorted_scores[int(0.05 * len(sorted_scores))]\n",
    "    confidence_upper = sorted_scores[int(0.95 * len(sorted_scores))]\n",
    "    print(\"Confidence interval for the score: [{:0.3f} - {:0.3}]\".format(\n",
    "        confidence_lower, confidence_upper))\n",
    "    return confidence_lower, confidence_upper\n"
   ]
  },
  {
   "cell_type": "code",
   "execution_count": 9,
   "metadata": {},
   "outputs": [
    {
     "name": "stdout",
     "output_type": "stream",
     "text": [
      "auroc score: 0.976063829787234\n",
      "Confidence interval for the score: [0.947 - 0.998]\n"
     ]
    },
    {
     "data": {
      "image/png": "[encoded data removed]",
      "text/plain": [
       "<Figure size 576x576 with 1 Axes>"
      ]
     },
     "metadata": {
      "needs_background": "light"
     },
     "output_type": "display_data"
    }
   ],
   "source": [
    "plt.figure(figsize=(8, 8))\n",
    "fpr, tpr, _ = roc_curve(ytest, y_pred)\n",
    "r , l = CI(ytest, y_pred)\n",
    "tex = 'Lasso: AUROC={:0.3f}\\n95%CI: {:0.3f} - {:0.3f}'.format(raw[1],r,l)\n",
    "plt.plot(fpr, tpr, lw=2, label=tex)\n",
    "    \n",
    "plt.plot([0, 1], [0, 1], color='navy', lw=2, linestyle='--')\n",
    "plt.xlim([0.0, 1.0])\n",
    "plt.ylim([0.0, 1.01])\n",
    "plt.xlabel('False Positive Rate', fontdict={'size'   : 20})\n",
    "plt.ylabel('True Positive Rate', fontdict={'size'   : 20})\n",
    "plt.title(exp_to_run, fontdict={'size'   : 20})\n",
    "plt.yticks(size = 16)\n",
    "plt.xticks(size = 16)  \n",
    "plt.legend(loc=\"lower right\",fontsize=20)\n",
    "plt.savefig(\"./figures/{}_roc.pdf\".format(exp_to_run))\n",
    "plt.show()"
   ]
  },
  {
   "cell_type": "code",
   "execution_count": 10,
   "metadata": {},
   "outputs": [],
   "source": [
    "from sklearn.metrics import precision_recall_curve, auc\n",
    "def CI_pr(y_true, y_pred):\n",
    "    bootstrapped_scores = []\n",
    "    precision, recall, thresholds = precision_recall_curve(ytest, y_pred)\n",
    "    aupr = auc(recall, precision)\n",
    "    print(\"auprc socre:\", aupr)\n",
    "    rng = np.random.RandomState(rng_seed)\n",
    "    for i in range(n_bootstraps):\n",
    "        # bootstrap by sampling with replacement on the prediction indices\n",
    "        indices = rng.randint(0, len(y_pred), len(y_pred))\n",
    "        if len(np.unique(y_true[indices])) < 2:\n",
    "            # We need at least one positive and one negative sample for ROC AUC\n",
    "            # to be defined: reject the sample\n",
    "            continue\n",
    "        \n",
    "        precision, recall, thresholds = precision_recall_curve(y_true[indices], y_pred[indices])\n",
    "        score = auc(recall, precision)\n",
    "        bootstrapped_scores.append(score)\n",
    "        #print(\"Bootstrap #{} ROC area: {:0.3f}\".format(i + 1, score))\n",
    "    sorted_scores = np.array(bootstrapped_scores)\n",
    "    sorted_scores.sort()\n",
    "\n",
    "    # Computing the lower and upper bound of the 90% confidence interval\n",
    "    # You can change the bounds percentiles to 0.025 and 0.975 to get\n",
    "    # a 95% confidence interval instead.\n",
    "    print(len(sorted_scores))\n",
    "    confidence_lower = sorted_scores[int(0.05 * len(sorted_scores))]\n",
    "    confidence_upper = sorted_scores[int(0.95 * len(sorted_scores))]\n",
    "    print(\"Confidence interval for the score: [{:0.3f} - {:0.3}]\".format(\n",
    "        confidence_lower, confidence_upper))\n",
    "    return confidence_lower, confidence_upper"
   ]
  },
  {
   "cell_type": "code",
   "execution_count": 11,
   "metadata": {},
   "outputs": [
    {
     "name": "stdout",
     "output_type": "stream",
     "text": [
      "auprc socre: 0.9910635406707288\n",
      "1000\n",
      "Confidence interval for the score: [0.980 - 0.999]\n"
     ]
    },
    {
     "data": {
      "image/png": "[encoded data removed]",
      "text/plain": [
       "<Figure size 576x576 with 1 Axes>"
      ]
     },
     "metadata": {
      "needs_background": "light"
     },
     "output_type": "display_data"
    }
   ],
   "source": [
    "plt.figure(figsize=(8, 8))\n",
    "precision, recall, thresholds = precision_recall_curve(ytest, y_pred)\n",
    "aupr = auc(recall, precision)\n",
    "r, l = CI_pr(ytest, y_pred)\n",
    "tex = 'Lasso: AUPR = {:0.3f}\\n95%CI: {:0.3f} - {:0.3f}'.format(aupr,r,l)\n",
    "plt.plot(recall, precision, lw=2, label=tex)\n",
    "\n",
    "fr = len(ytest[ytest==1])/len(ytest)\n",
    "plt.plot([0, 1], [fr,fr], color='navy', lw=2, linestyle='--')\n",
    "plt.xlim([0.0, 1.0])\n",
    "plt.ylim([0.0, 1.01])\n",
    "plt.xlabel('Recall', fontdict={'size'   : 20})\n",
    "plt.ylabel('Precision', fontdict={'size'   : 20})\n",
    "plt.title(exp_to_run, fontdict={'size'   : 20})\n",
    "plt.yticks(size = 16)\n",
    "plt.xticks(size = 16)  \n",
    "plt.legend(loc=\"lower right\",fontsize=20)\n",
    "plt.savefig(\"./figures/{}_prc.pdf\".format(exp_to_run))\n",
    "plt.show()"
   ]
  },
  {
   "cell_type": "code",
   "execution_count": 12,
   "metadata": {},
   "outputs": [
    {
     "name": "stdout",
     "output_type": "stream",
     "text": [
      "repeated corss validation\n",
      "all selected features with selected times:\n",
      "feature_index: 56, meta nema: Hypoxanthine, selected times:50\n",
      "feature_index: 73, meta nema: Phenylalanine, selected times:50\n",
      "feature_index: 89, meta nema: Tryptophan, selected times:50\n",
      "feature_index: 37, meta nema: Creatine, selected times:49\n",
      "feature_index: 32, meta nema: 8:0-Carnitine, selected times:40\n",
      "feature_index: 75, meta nema: Proline, selected times:12\n",
      "feature_index: 23, meta nema: Carnitine, selected times:2\n",
      "selection results with selected times >= 0.5 in 50 times:\n",
      "selected feature index:  [32 37 56 73 89]\n",
      "selected meta names:  ['8:0-Carnitine', 'Creatine', 'Hypoxanthine', 'Phenylalanine', 'Tryptophan']\n",
      "with selected features:\n",
      "evaluate on train set:\n",
      "f1 score: 1.0\n",
      "auroc score: 1.0\n",
      "evaluate on test set:\n",
      "f1 score: 0.9462365591397849\n",
      "auroc score: 0.976063829787234\n"
     ]
    }
   ],
   "source": [
    "# cross validation\n",
    "class ArgsClass:\n",
    "    def __init__(self, k=5, alpha=0.05):\n",
    "        self.k=k\n",
    "        self.alpha=alpha\n",
    "args=ArgsClass(k=20, alpha=0.001)\n",
    "sel = Selection(method, args)\n",
    "ratio = 0.5\n",
    "sel.fit_repeat_cv(Xtrain, ytrain, metas, threshold_ratio=ratio, random_state=rng_seed)  # cross validation on trainig set\n",
    "mb = sel.mb_\n",
    "print(\"selection results with selected times >= {} in 50 times:\".format(ratio))\n",
    "print(\"selected feature index: \", mb)\n",
    "print(\"selected meta names: \", [metas[x] for x in mb])\n",
    "print(\"with selected features:\")\n",
    "model, raw = train_test(sel.transform(Xtrain), ytrain, sel.transform(Xtest), ytest, test_fn=\"RF\") "
   ]
  },
  {
   "cell_type": "code",
   "execution_count": null,
   "metadata": {},
   "outputs": [],
   "source": []
  }
 ],
 "metadata": {
  "interpreter": {
   "hash": "00c6fc4c85064f0cf2751ab049dbfae7a10c484c06aec8bfc31b3bb99dfc611c"
  },
  "kernelspec": {
   "display_name": "Python 3",
   "language": "python",
   "name": "python3"
  },
  "language_info": {
   "codemirror_mode": {
    "name": "ipython",
    "version": 3
   },
   "file_extension": ".py",
   "mimetype": "text/x-python",
   "name": "python",
   "nbconvert_exporter": "python",
   "pygments_lexer": "ipython3",
   "version": "3.8.8"
  }
 },
 "nbformat": 4,
 "nbformat_minor": 4
}
